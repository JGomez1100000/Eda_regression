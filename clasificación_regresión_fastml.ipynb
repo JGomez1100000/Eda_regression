{
 "cells": [
  {
   "cell_type": "code",
   "execution_count": 1,
   "metadata": {},
   "outputs": [],
   "source": [
    "import numpy as np\n",
    "import pandas as pd\n",
    "import matplotlib.pyplot as plt\n",
    "import seaborn as sns"
   ]
  },
  {
   "attachments": {},
   "cell_type": "markdown",
   "metadata": {},
   "source": [
    "### Regresión: "
   ]
  },
  {
   "cell_type": "code",
   "execution_count": 2,
   "metadata": {},
   "outputs": [],
   "source": [
    "from sklearn.linear_model import LinearRegression\n",
    "from sklearn.model_selection import train_test_split\n",
    "from sklearn.metrics import mean_squared_error\n",
    "from sklearn.preprocessing import StandardScaler"
   ]
  },
  {
   "attachments": {},
   "cell_type": "markdown",
   "metadata": {},
   "source": [
    "### Clasificación: "
   ]
  },
  {
   "cell_type": "code",
   "execution_count": 3,
   "metadata": {},
   "outputs": [],
   "source": [
    "from sklearn.linear_model import LogisticRegression\n",
    "from sklearn.tree import DecisionTreeClassifier\n",
    "from sklearn.model_selection import train_test_split\n",
    "from sklearn.metrics import accuracy_score\n",
    "from sklearn.preprocessing import StandardScaler"
   ]
  },
  {
   "attachments": {},
   "cell_type": "markdown",
   "metadata": {},
   "source": [
    "### Importar modelos: "
   ]
  },
  {
   "cell_type": "code",
   "execution_count": 4,
   "metadata": {},
   "outputs": [],
   "source": [
    "import sklearn"
   ]
  },
  {
   "cell_type": "code",
   "execution_count": 5,
   "metadata": {},
   "outputs": [
    {
     "data": {
      "text/plain": [
       "['ARDRegression',\n",
       " 'BayesianRidge',\n",
       " 'ElasticNet',\n",
       " 'ElasticNetCV',\n",
       " 'GammaRegressor',\n",
       " 'Hinge',\n",
       " 'Huber',\n",
       " 'HuberRegressor',\n",
       " 'Lars',\n",
       " 'LarsCV',\n",
       " 'Lasso',\n",
       " 'LassoCV',\n",
       " 'LassoLars',\n",
       " 'LassoLarsCV',\n",
       " 'LassoLarsIC',\n",
       " 'LinearRegression',\n",
       " 'Log',\n",
       " 'LogisticRegression',\n",
       " 'LogisticRegressionCV',\n",
       " 'ModifiedHuber',\n",
       " 'MultiTaskElasticNet',\n",
       " 'MultiTaskElasticNetCV',\n",
       " 'MultiTaskLasso',\n",
       " 'MultiTaskLassoCV',\n",
       " 'OrthogonalMatchingPursuit',\n",
       " 'OrthogonalMatchingPursuitCV',\n",
       " 'PassiveAggressiveClassifier',\n",
       " 'PassiveAggressiveRegressor',\n",
       " 'Perceptron',\n",
       " 'PoissonRegressor',\n",
       " 'QuantileRegressor',\n",
       " 'RANSACRegressor',\n",
       " 'Ridge',\n",
       " 'RidgeCV',\n",
       " 'RidgeClassifier',\n",
       " 'RidgeClassifierCV',\n",
       " 'SGDClassifier',\n",
       " 'SGDOneClassSVM',\n",
       " 'SGDRegressor',\n",
       " 'SquaredLoss',\n",
       " 'TheilSenRegressor',\n",
       " 'TweedieRegressor',\n",
       " '__all__',\n",
       " '__builtins__',\n",
       " '__cached__',\n",
       " '__doc__',\n",
       " '__file__',\n",
       " '__loader__',\n",
       " '__name__',\n",
       " '__package__',\n",
       " '__path__',\n",
       " '__spec__',\n",
       " '_base',\n",
       " '_bayes',\n",
       " '_cd_fast',\n",
       " '_coordinate_descent',\n",
       " '_glm',\n",
       " '_huber',\n",
       " '_least_angle',\n",
       " '_linear_loss',\n",
       " '_logistic',\n",
       " '_omp',\n",
       " '_passive_aggressive',\n",
       " '_perceptron',\n",
       " '_quantile',\n",
       " '_ransac',\n",
       " '_ridge',\n",
       " '_sag',\n",
       " '_sag_fast',\n",
       " '_sgd_fast',\n",
       " '_stochastic_gradient',\n",
       " '_theil_sen',\n",
       " 'enet_path',\n",
       " 'lars_path',\n",
       " 'lars_path_gram',\n",
       " 'lasso_path',\n",
       " 'orthogonal_mp',\n",
       " 'orthogonal_mp_gram',\n",
       " 'ridge_regression']"
      ]
     },
     "execution_count": 5,
     "metadata": {},
     "output_type": "execute_result"
    }
   ],
   "source": [
    "dir(sklearn.linear_model)"
   ]
  },
  {
   "cell_type": "code",
   "execution_count": 6,
   "metadata": {},
   "outputs": [],
   "source": [
    "from sklearn import datasets"
   ]
  },
  {
   "cell_type": "code",
   "execution_count": 7,
   "metadata": {},
   "outputs": [],
   "source": [
    "from sklearn.datasets import load_diabetes\n",
    "from sklearn.datasets import load_iris"
   ]
  },
  {
   "cell_type": "code",
   "execution_count": 8,
   "metadata": {},
   "outputs": [],
   "source": [
    "diabetes_data = load_diabetes()\n",
    "iris_data = load_iris()"
   ]
  },
  {
   "cell_type": "code",
   "execution_count": 9,
   "metadata": {},
   "outputs": [
    {
     "name": "stdout",
     "output_type": "stream",
     "text": [
      "dict_keys(['data', 'target', 'frame', 'DESCR', 'feature_names', 'data_filename', 'target_filename', 'data_module'])\n"
     ]
    }
   ],
   "source": [
    "print(diabetes_data.keys())"
   ]
  },
  {
   "cell_type": "code",
   "execution_count": 10,
   "metadata": {},
   "outputs": [],
   "source": [
    "## Correlaciones\n",
    "from scipy.stats import pearsonr\n",
    "from scipy.stats import spearmanr"
   ]
  },
  {
   "cell_type": "code",
   "execution_count": 11,
   "metadata": {},
   "outputs": [
    {
     "ename": "NameError",
     "evalue": "name 'x_dia' is not defined",
     "output_type": "error",
     "traceback": [
      "\u001b[1;31m---------------------------------------------------------------------------\u001b[0m",
      "\u001b[1;31mNameError\u001b[0m                                 Traceback (most recent call last)",
      "Cell \u001b[1;32mIn[11], line 1\u001b[0m\n\u001b[1;32m----> 1\u001b[0m x_dia\n",
      "\u001b[1;31mNameError\u001b[0m: name 'x_dia' is not defined"
     ]
    }
   ],
   "source": [
    "x_dia"
   ]
  },
  {
   "cell_type": "code",
   "execution_count": null,
   "metadata": {},
   "outputs": [
    {
     "name": "stdout",
     "output_type": "stream",
     "text": [
      "Coeficiente de correlación de Pearson:  0.5864501344746887\n"
     ]
    }
   ],
   "source": [
    "x_dia = diabetes_data.data[:,2]\n",
    "y_dia = diabetes_data.target\n",
    "corr,p_value = pearsonr(x_dia, y_dia)\n",
    "print(\"Coeficiente de correlación de Pearson: \", corr)"
   ]
  },
  {
   "cell_type": "code",
   "execution_count": null,
   "metadata": {},
   "outputs": [
    {
     "data": {
      "image/png": "[encoded data removed]",
      "text/plain": [
       "<Figure size 640x480 with 1 Axes>"
      ]
     },
     "metadata": {},
     "output_type": "display_data"
    }
   ],
   "source": [
    "plt.scatter(x_dia,y_dia)\n",
    "plt.title(f'Coeficiente de Correlación de Pearson: {corr:.2f}')\n",
    "plt.show()"
   ]
  },
  {
   "cell_type": "code",
   "execution_count": null,
   "metadata": {},
   "outputs": [],
   "source": [
    "from sklearn.preprocessing import MinMaxScaler #normalización"
   ]
  },
  {
   "cell_type": "code",
   "execution_count": null,
   "metadata": {},
   "outputs": [],
   "source": [
    "y = diabetes_data.target\n",
    "scaler = MinMaxScaler()\n",
    "scaler.fit(y.reshape(-1,1))\n",
    "y_scaled = scaler.transform(y.reshape(-1,1))"
   ]
  },
  {
   "cell_type": "code",
   "execution_count": null,
   "metadata": {},
   "outputs": [
    {
     "data": {
      "image/png": "[encoded data removed]",
      "text/plain": [
       "<Figure size 640x480 with 1 Axes>"
      ]
     },
     "metadata": {},
     "output_type": "display_data"
    }
   ],
   "source": [
    "plt.hist(y_scaled, bins=30, color=\"blue\", alpha = 0.5)\n",
    "plt.show()"
   ]
  },
  {
   "cell_type": "code",
   "execution_count": null,
   "metadata": {},
   "outputs": [
    {
     "data": {
      "text/plain": [
       "{'whiskers': [<matplotlib.lines.Line2D at 0x7f7840921300>,\n",
       "  <matplotlib.lines.Line2D at 0x7f78409201f0>],\n",
       " 'caps': [<matplotlib.lines.Line2D at 0x7f7842fab310>,\n",
       "  <matplotlib.lines.Line2D at 0x7f7842fabbb0>],\n",
       " 'boxes': [<matplotlib.lines.Line2D at 0x7f78409210f0>],\n",
       " 'medians': [<matplotlib.lines.Line2D at 0x7f784093e650>],\n",
       " 'fliers': [<matplotlib.lines.Line2D at 0x7f7842faba90>],\n",
       " 'means': []}"
      ]
     },
     "execution_count": 41,
     "metadata": {},
     "output_type": "execute_result"
    },
    {
     "data": {
      "image/png": "[encoded data removed]",
      "text/plain": [
       "<Figure size 640x480 with 1 Axes>"
      ]
     },
     "metadata": {},
     "output_type": "display_data"
    }
   ],
   "source": [
    "### Outliers\n",
    "y = diabetes_data.target\n",
    "q1,q3 = np.percentile(y, [25,75])\n",
    "iqr = q3 - q1\n",
    "min_value = q1 - (1.5*iqr)\n",
    "max_value = q3 + (1.5*iqr)\n",
    "y_filtered = y[(y>=min_value) & (y<=max_value)]\n",
    "plt.boxplot(y, vert=False)"
   ]
  },
  {
   "cell_type": "code",
   "execution_count": null,
   "metadata": {},
   "outputs": [
    {
     "name": "stdout",
     "output_type": "stream",
     "text": [
      "skewnewss:  0.15\n"
     ]
    }
   ],
   "source": [
    "### Skewness\n",
    "y = diabetes_data.target\n",
    "skewness = round(float(np.mean(y) - np.median(y)) / np.std(y), 2)\n",
    "print('skewnewss: ', skewness)"
   ]
  },
  {
   "cell_type": "code",
   "execution_count": null,
   "metadata": {},
   "outputs": [
    {
     "data": {
      "text/plain": [
       "(array([38., 80., 68., 62., 50., 41., 38., 42., 17.,  6.]),\n",
       " array([ 25. ,  57.1,  89.2, 121.3, 153.4, 185.5, 217.6, 249.7, 281.8,\n",
       "        313.9, 346. ]),\n",
       " <BarContainer object of 10 artists>)"
      ]
     },
     "execution_count": 43,
     "metadata": {},
     "output_type": "execute_result"
    },
    {
     "data": {
      "image/png": "[encoded data removed]",
      "text/plain": [
       "<Figure size 640x480 with 1 Axes>"
      ]
     },
     "metadata": {},
     "output_type": "display_data"
    }
   ],
   "source": [
    "plt.hist(y)"
   ]
  },
  {
   "cell_type": "code",
   "execution_count": null,
   "metadata": {},
   "outputs": [
    {
     "name": "stdout",
     "output_type": "stream",
     "text": [
      "0.43906639932477265\n"
     ]
    }
   ],
   "source": [
    "from scipy.stats import skew\n",
    "y_dia = diabetes_data.target\n",
    "skewness = skew(y_dia)\n",
    "print(skewness)"
   ]
  },
  {
   "cell_type": "code",
   "execution_count": null,
   "metadata": {},
   "outputs": [
    {
     "data": {
      "text/plain": [
       "(array([38., 80., 68., 62., 50., 41., 38., 42., 17.,  6.]),\n",
       " array([ 25. ,  57.1,  89.2, 121.3, 153.4, 185.5, 217.6, 249.7, 281.8,\n",
       "        313.9, 346. ]),\n",
       " <BarContainer object of 10 artists>)"
      ]
     },
     "execution_count": 45,
     "metadata": {},
     "output_type": "execute_result"
    },
    {
     "data": {
      "image/png": "[encoded data removed]",
      "text/plain": [
       "<Figure size 640x480 with 1 Axes>"
      ]
     },
     "metadata": {},
     "output_type": "display_data"
    }
   ],
   "source": [
    "plt.hist(y_dia)"
   ]
  },
  {
   "attachments": {},
   "cell_type": "markdown",
   "metadata": {},
   "source": [
    "### Regresión"
   ]
  },
  {
   "cell_type": "code",
   "execution_count": null,
   "metadata": {},
   "outputs": [
    {
     "name": "stdout",
     "output_type": "stream",
     "text": [
      "0.47195769285754285\n"
     ]
    }
   ],
   "source": [
    "# Ejemplo de regresión en diabetes\n",
    "X = diabetes_data.data\n",
    "y = diabetes_data.target\n",
    "# División train/test\n",
    "X_train, X_test, y_train, y_test = train_test_split(X,y,test_size=0.2,random_state=357)\n",
    "#Instancia del modelo\n",
    "reg = LinearRegression()\n",
    "#Entrenamos el modelo\n",
    "reg.fit(X_train, y_train)\n",
    "#Hacemos predicciones sobre el test\n",
    "Y_pred = reg.predict(X_test)\n",
    "#Evaluación\n",
    "score = reg.score(X_test,y_test)\n",
    "print(score)"
   ]
  },
  {
   "attachments": {},
   "cell_type": "markdown",
   "metadata": {},
   "source": [
    "### Clasificación"
   ]
  },
  {
   "cell_type": "code",
   "execution_count": null,
   "metadata": {},
   "outputs": [],
   "source": [
    "iris = datasets.load_iris()"
   ]
  },
  {
   "cell_type": "code",
   "execution_count": null,
   "metadata": {},
   "outputs": [
    {
     "name": "stdout",
     "output_type": "stream",
     "text": [
      "['setosa' 'versicolor' 'virginica']\n"
     ]
    }
   ],
   "source": [
    "print(iris.target_names)"
   ]
  },
  {
   "cell_type": "code",
   "execution_count": null,
   "metadata": {},
   "outputs": [
    {
     "name": "stdout",
     "output_type": "stream",
     "text": [
      "0.9777777777777777\n"
     ]
    },
    {
     "name": "stderr",
     "output_type": "stream",
     "text": [
      "/home/deme/.local/lib/python3.10/site-packages/sklearn/linear_model/_logistic.py:458: ConvergenceWarning: lbfgs failed to converge (status=1):\n",
      "STOP: TOTAL NO. of ITERATIONS REACHED LIMIT.\n",
      "\n",
      "Increase the number of iterations (max_iter) or scale the data as shown in:\n",
      "    https://scikit-learn.org/stable/modules/preprocessing.html\n",
      "Please also refer to the documentation for alternative solver options:\n",
      "    https://scikit-learn.org/stable/modules/linear_model.html#logistic-regression\n",
      "  n_iter_i = _check_optimize_result(\n"
     ]
    }
   ],
   "source": [
    "X = iris.data\n",
    "y = iris.target\n",
    "X_train, X_test, y_train, y_test = train_test_split(X,y,test_size=0.3,random_state=357)\n",
    "regl = LogisticRegression()\n",
    "#Entrenamos el modelo\n",
    "regl.fit(X_train, y_train)\n",
    "#Hacemos predicciones sobre el test\n",
    "Y_pred = regl.predict(X_test)\n",
    "#Evaluación\n",
    "score = regl.score(X_test,y_test)\n",
    "print(score)"
   ]
  },
  {
   "attachments": {},
   "cell_type": "markdown",
   "metadata": {},
   "source": [
    "### FASTML"
   ]
  },
  {
   "cell_type": "code",
   "execution_count": null,
   "metadata": {},
   "outputs": [],
   "source": [
    "iris = load_iris()\n",
    "iris_df = pd.DataFrame(data= np.c_[iris['data'], iris['target']],\n",
    "                     columns= iris['feature_names'] + ['target'])"
   ]
  },
  {
   "cell_type": "code",
   "execution_count": null,
   "metadata": {},
   "outputs": [
    {
     "data": {
      "text/html": [
       "<div>\n",
       "<style scoped>\n",
       "    .dataframe tbody tr th:only-of-type {\n",
       "        vertical-align: middle;\n",
       "    }\n",
       "\n",
       "    .dataframe tbody tr th {\n",
       "        vertical-align: top;\n",
       "    }\n",
       "\n",
       "    .dataframe thead th {\n",
       "        text-align: right;\n",
       "    }\n",
       "</style>\n",
       "<table border=\"1\" class=\"dataframe\">\n",
       "  <thead>\n",
       "    <tr style=\"text-align: right;\">\n",
       "      <th></th>\n",
       "      <th>sepal length (cm)</th>\n",
       "      <th>sepal width (cm)</th>\n",
       "      <th>petal length (cm)</th>\n",
       "      <th>petal width (cm)</th>\n",
       "      <th>target</th>\n",
       "    </tr>\n",
       "  </thead>\n",
       "  <tbody>\n",
       "    <tr>\n",
       "      <th>0</th>\n",
       "      <td>5.1</td>\n",
       "      <td>3.5</td>\n",
       "      <td>1.4</td>\n",
       "      <td>0.2</td>\n",
       "      <td>0.0</td>\n",
       "    </tr>\n",
       "    <tr>\n",
       "      <th>1</th>\n",
       "      <td>4.9</td>\n",
       "      <td>3.0</td>\n",
       "      <td>1.4</td>\n",
       "      <td>0.2</td>\n",
       "      <td>0.0</td>\n",
       "    </tr>\n",
       "    <tr>\n",
       "      <th>2</th>\n",
       "      <td>4.7</td>\n",
       "      <td>3.2</td>\n",
       "      <td>1.3</td>\n",
       "      <td>0.2</td>\n",
       "      <td>0.0</td>\n",
       "    </tr>\n",
       "    <tr>\n",
       "      <th>3</th>\n",
       "      <td>4.6</td>\n",
       "      <td>3.1</td>\n",
       "      <td>1.5</td>\n",
       "      <td>0.2</td>\n",
       "      <td>0.0</td>\n",
       "    </tr>\n",
       "    <tr>\n",
       "      <th>4</th>\n",
       "      <td>5.0</td>\n",
       "      <td>3.6</td>\n",
       "      <td>1.4</td>\n",
       "      <td>0.2</td>\n",
       "      <td>0.0</td>\n",
       "    </tr>\n",
       "    <tr>\n",
       "      <th>...</th>\n",
       "      <td>...</td>\n",
       "      <td>...</td>\n",
       "      <td>...</td>\n",
       "      <td>...</td>\n",
       "      <td>...</td>\n",
       "    </tr>\n",
       "    <tr>\n",
       "      <th>145</th>\n",
       "      <td>6.7</td>\n",
       "      <td>3.0</td>\n",
       "      <td>5.2</td>\n",
       "      <td>2.3</td>\n",
       "      <td>2.0</td>\n",
       "    </tr>\n",
       "    <tr>\n",
       "      <th>146</th>\n",
       "      <td>6.3</td>\n",
       "      <td>2.5</td>\n",
       "      <td>5.0</td>\n",
       "      <td>1.9</td>\n",
       "      <td>2.0</td>\n",
       "    </tr>\n",
       "    <tr>\n",
       "      <th>147</th>\n",
       "      <td>6.5</td>\n",
       "      <td>3.0</td>\n",
       "      <td>5.2</td>\n",
       "      <td>2.0</td>\n",
       "      <td>2.0</td>\n",
       "    </tr>\n",
       "    <tr>\n",
       "      <th>148</th>\n",
       "      <td>6.2</td>\n",
       "      <td>3.4</td>\n",
       "      <td>5.4</td>\n",
       "      <td>2.3</td>\n",
       "      <td>2.0</td>\n",
       "    </tr>\n",
       "    <tr>\n",
       "      <th>149</th>\n",
       "      <td>5.9</td>\n",
       "      <td>3.0</td>\n",
       "      <td>5.1</td>\n",
       "      <td>1.8</td>\n",
       "      <td>2.0</td>\n",
       "    </tr>\n",
       "  </tbody>\n",
       "</table>\n",
       "<p>150 rows × 5 columns</p>\n",
       "</div>"
      ],
      "text/plain": [
       "     sepal length (cm)  sepal width (cm)  petal length (cm)  petal width (cm)  \\\n",
       "0                  5.1               3.5                1.4               0.2   \n",
       "1                  4.9               3.0                1.4               0.2   \n",
       "2                  4.7               3.2                1.3               0.2   \n",
       "3                  4.6               3.1                1.5               0.2   \n",
       "4                  5.0               3.6                1.4               0.2   \n",
       "..                 ...               ...                ...               ...   \n",
       "145                6.7               3.0                5.2               2.3   \n",
       "146                6.3               2.5                5.0               1.9   \n",
       "147                6.5               3.0                5.2               2.0   \n",
       "148                6.2               3.4                5.4               2.3   \n",
       "149                5.9               3.0                5.1               1.8   \n",
       "\n",
       "     target  \n",
       "0       0.0  \n",
       "1       0.0  \n",
       "2       0.0  \n",
       "3       0.0  \n",
       "4       0.0  \n",
       "..      ...  \n",
       "145     2.0  \n",
       "146     2.0  \n",
       "147     2.0  \n",
       "148     2.0  \n",
       "149     2.0  \n",
       "\n",
       "[150 rows x 5 columns]"
      ]
     },
     "execution_count": 61,
     "metadata": {},
     "output_type": "execute_result"
    }
   ],
   "source": [
    "iris_df"
   ]
  },
  {
   "cell_type": "code",
   "execution_count": null,
   "metadata": {},
   "outputs": [],
   "source": [
    "from pycaret.classification import *"
   ]
  },
  {
   "cell_type": "code",
   "execution_count": null,
   "metadata": {},
   "outputs": [
    {
     "data": {
      "text/html": [
       "<style type=\"text/css\">\n",
       "#T_f1ad5_row8_col1 {\n",
       "  background-color: lightgreen;\n",
       "}\n",
       "</style>\n",
       "<table id=\"T_f1ad5\">\n",
       "  <thead>\n",
       "    <tr>\n",
       "      <th class=\"blank level0\" >&nbsp;</th>\n",
       "      <th id=\"T_f1ad5_level0_col0\" class=\"col_heading level0 col0\" >Description</th>\n",
       "      <th id=\"T_f1ad5_level0_col1\" class=\"col_heading level0 col1\" >Value</th>\n",
       "    </tr>\n",
       "  </thead>\n",
       "  <tbody>\n",
       "    <tr>\n",
       "      <th id=\"T_f1ad5_level0_row0\" class=\"row_heading level0 row0\" >0</th>\n",
       "      <td id=\"T_f1ad5_row0_col0\" class=\"data row0 col0\" >Session id</td>\n",
       "      <td id=\"T_f1ad5_row0_col1\" class=\"data row0 col1\" >357</td>\n",
       "    </tr>\n",
       "    <tr>\n",
       "      <th id=\"T_f1ad5_level0_row1\" class=\"row_heading level0 row1\" >1</th>\n",
       "      <td id=\"T_f1ad5_row1_col0\" class=\"data row1 col0\" >Target</td>\n",
       "      <td id=\"T_f1ad5_row1_col1\" class=\"data row1 col1\" >target</td>\n",
       "    </tr>\n",
       "    <tr>\n",
       "      <th id=\"T_f1ad5_level0_row2\" class=\"row_heading level0 row2\" >2</th>\n",
       "      <td id=\"T_f1ad5_row2_col0\" class=\"data row2 col0\" >Target type</td>\n",
       "      <td id=\"T_f1ad5_row2_col1\" class=\"data row2 col1\" >Multiclass</td>\n",
       "    </tr>\n",
       "    <tr>\n",
       "      <th id=\"T_f1ad5_level0_row3\" class=\"row_heading level0 row3\" >3</th>\n",
       "      <td id=\"T_f1ad5_row3_col0\" class=\"data row3 col0\" >Original data shape</td>\n",
       "      <td id=\"T_f1ad5_row3_col1\" class=\"data row3 col1\" >(150, 5)</td>\n",
       "    </tr>\n",
       "    <tr>\n",
       "      <th id=\"T_f1ad5_level0_row4\" class=\"row_heading level0 row4\" >4</th>\n",
       "      <td id=\"T_f1ad5_row4_col0\" class=\"data row4 col0\" >Transformed data shape</td>\n",
       "      <td id=\"T_f1ad5_row4_col1\" class=\"data row4 col1\" >(150, 5)</td>\n",
       "    </tr>\n",
       "    <tr>\n",
       "      <th id=\"T_f1ad5_level0_row5\" class=\"row_heading level0 row5\" >5</th>\n",
       "      <td id=\"T_f1ad5_row5_col0\" class=\"data row5 col0\" >Transformed train set shape</td>\n",
       "      <td id=\"T_f1ad5_row5_col1\" class=\"data row5 col1\" >(105, 5)</td>\n",
       "    </tr>\n",
       "    <tr>\n",
       "      <th id=\"T_f1ad5_level0_row6\" class=\"row_heading level0 row6\" >6</th>\n",
       "      <td id=\"T_f1ad5_row6_col0\" class=\"data row6 col0\" >Transformed test set shape</td>\n",
       "      <td id=\"T_f1ad5_row6_col1\" class=\"data row6 col1\" >(45, 5)</td>\n",
       "    </tr>\n",
       "    <tr>\n",
       "      <th id=\"T_f1ad5_level0_row7\" class=\"row_heading level0 row7\" >7</th>\n",
       "      <td id=\"T_f1ad5_row7_col0\" class=\"data row7 col0\" >Numeric features</td>\n",
       "      <td id=\"T_f1ad5_row7_col1\" class=\"data row7 col1\" >4</td>\n",
       "    </tr>\n",
       "    <tr>\n",
       "      <th id=\"T_f1ad5_level0_row8\" class=\"row_heading level0 row8\" >8</th>\n",
       "      <td id=\"T_f1ad5_row8_col0\" class=\"data row8 col0\" >Preprocess</td>\n",
       "      <td id=\"T_f1ad5_row8_col1\" class=\"data row8 col1\" >True</td>\n",
       "    </tr>\n",
       "    <tr>\n",
       "      <th id=\"T_f1ad5_level0_row9\" class=\"row_heading level0 row9\" >9</th>\n",
       "      <td id=\"T_f1ad5_row9_col0\" class=\"data row9 col0\" >Imputation type</td>\n",
       "      <td id=\"T_f1ad5_row9_col1\" class=\"data row9 col1\" >simple</td>\n",
       "    </tr>\n",
       "    <tr>\n",
       "      <th id=\"T_f1ad5_level0_row10\" class=\"row_heading level0 row10\" >10</th>\n",
       "      <td id=\"T_f1ad5_row10_col0\" class=\"data row10 col0\" >Numeric imputation</td>\n",
       "      <td id=\"T_f1ad5_row10_col1\" class=\"data row10 col1\" >mean</td>\n",
       "    </tr>\n",
       "    <tr>\n",
       "      <th id=\"T_f1ad5_level0_row11\" class=\"row_heading level0 row11\" >11</th>\n",
       "      <td id=\"T_f1ad5_row11_col0\" class=\"data row11 col0\" >Categorical imputation</td>\n",
       "      <td id=\"T_f1ad5_row11_col1\" class=\"data row11 col1\" >mode</td>\n",
       "    </tr>\n",
       "    <tr>\n",
       "      <th id=\"T_f1ad5_level0_row12\" class=\"row_heading level0 row12\" >12</th>\n",
       "      <td id=\"T_f1ad5_row12_col0\" class=\"data row12 col0\" >Fold Generator</td>\n",
       "      <td id=\"T_f1ad5_row12_col1\" class=\"data row12 col1\" >StratifiedKFold</td>\n",
       "    </tr>\n",
       "    <tr>\n",
       "      <th id=\"T_f1ad5_level0_row13\" class=\"row_heading level0 row13\" >13</th>\n",
       "      <td id=\"T_f1ad5_row13_col0\" class=\"data row13 col0\" >Fold Number</td>\n",
       "      <td id=\"T_f1ad5_row13_col1\" class=\"data row13 col1\" >10</td>\n",
       "    </tr>\n",
       "    <tr>\n",
       "      <th id=\"T_f1ad5_level0_row14\" class=\"row_heading level0 row14\" >14</th>\n",
       "      <td id=\"T_f1ad5_row14_col0\" class=\"data row14 col0\" >CPU Jobs</td>\n",
       "      <td id=\"T_f1ad5_row14_col1\" class=\"data row14 col1\" >-1</td>\n",
       "    </tr>\n",
       "    <tr>\n",
       "      <th id=\"T_f1ad5_level0_row15\" class=\"row_heading level0 row15\" >15</th>\n",
       "      <td id=\"T_f1ad5_row15_col0\" class=\"data row15 col0\" >Use GPU</td>\n",
       "      <td id=\"T_f1ad5_row15_col1\" class=\"data row15 col1\" >False</td>\n",
       "    </tr>\n",
       "    <tr>\n",
       "      <th id=\"T_f1ad5_level0_row16\" class=\"row_heading level0 row16\" >16</th>\n",
       "      <td id=\"T_f1ad5_row16_col0\" class=\"data row16 col0\" >Log Experiment</td>\n",
       "      <td id=\"T_f1ad5_row16_col1\" class=\"data row16 col1\" >False</td>\n",
       "    </tr>\n",
       "    <tr>\n",
       "      <th id=\"T_f1ad5_level0_row17\" class=\"row_heading level0 row17\" >17</th>\n",
       "      <td id=\"T_f1ad5_row17_col0\" class=\"data row17 col0\" >Experiment Name</td>\n",
       "      <td id=\"T_f1ad5_row17_col1\" class=\"data row17 col1\" >clf-default-name</td>\n",
       "    </tr>\n",
       "    <tr>\n",
       "      <th id=\"T_f1ad5_level0_row18\" class=\"row_heading level0 row18\" >18</th>\n",
       "      <td id=\"T_f1ad5_row18_col0\" class=\"data row18 col0\" >USI</td>\n",
       "      <td id=\"T_f1ad5_row18_col1\" class=\"data row18 col1\" >8938</td>\n",
       "    </tr>\n",
       "  </tbody>\n",
       "</table>\n"
      ],
      "text/plain": [
       "<pandas.io.formats.style.Styler at 0x7f781c6f9090>"
      ]
     },
     "metadata": {},
     "output_type": "display_data"
    }
   ],
   "source": [
    "s = setup(iris_df, target='target',session_id=357)"
   ]
  },
  {
   "cell_type": "code",
   "execution_count": null,
   "metadata": {},
   "outputs": [
    {
     "data": {
      "text/html": [],
      "text/plain": [
       "<IPython.core.display.HTML object>"
      ]
     },
     "metadata": {},
     "output_type": "display_data"
    },
    {
     "data": {
      "text/html": [
       "<style type=\"text/css\">\n",
       "#T_64d43 th {\n",
       "  text-align: left;\n",
       "}\n",
       "#T_64d43_row0_col0, #T_64d43_row0_col2, #T_64d43_row1_col0, #T_64d43_row2_col0, #T_64d43_row2_col1, #T_64d43_row2_col2, #T_64d43_row2_col3, #T_64d43_row2_col4, #T_64d43_row2_col5, #T_64d43_row2_col6, #T_64d43_row2_col7, #T_64d43_row3_col0, #T_64d43_row3_col1, #T_64d43_row3_col2, #T_64d43_row3_col3, #T_64d43_row3_col4, #T_64d43_row3_col5, #T_64d43_row3_col6, #T_64d43_row3_col7, #T_64d43_row4_col0, #T_64d43_row4_col1, #T_64d43_row4_col3, #T_64d43_row4_col4, #T_64d43_row4_col5, #T_64d43_row4_col6, #T_64d43_row4_col7, #T_64d43_row5_col0, #T_64d43_row5_col1, #T_64d43_row5_col2, #T_64d43_row5_col3, #T_64d43_row5_col4, #T_64d43_row5_col5, #T_64d43_row5_col6, #T_64d43_row5_col7, #T_64d43_row6_col0, #T_64d43_row6_col1, #T_64d43_row6_col2, #T_64d43_row6_col3, #T_64d43_row6_col4, #T_64d43_row6_col5, #T_64d43_row6_col6, #T_64d43_row6_col7, #T_64d43_row7_col0, #T_64d43_row7_col1, #T_64d43_row7_col2, #T_64d43_row7_col3, #T_64d43_row7_col4, #T_64d43_row7_col5, #T_64d43_row7_col6, #T_64d43_row7_col7, #T_64d43_row8_col0, #T_64d43_row8_col1, #T_64d43_row8_col2, #T_64d43_row8_col3, #T_64d43_row8_col4, #T_64d43_row8_col5, #T_64d43_row8_col6, #T_64d43_row8_col7, #T_64d43_row9_col0, #T_64d43_row9_col1, #T_64d43_row9_col2, #T_64d43_row9_col3, #T_64d43_row9_col4, #T_64d43_row9_col5, #T_64d43_row9_col6, #T_64d43_row9_col7, #T_64d43_row10_col0, #T_64d43_row10_col1, #T_64d43_row10_col2, #T_64d43_row10_col3, #T_64d43_row10_col4, #T_64d43_row10_col5, #T_64d43_row10_col6, #T_64d43_row10_col7, #T_64d43_row11_col0, #T_64d43_row11_col1, #T_64d43_row11_col2, #T_64d43_row11_col3, #T_64d43_row11_col4, #T_64d43_row11_col5, #T_64d43_row11_col6, #T_64d43_row11_col7, #T_64d43_row12_col0, #T_64d43_row12_col1, #T_64d43_row12_col2, #T_64d43_row12_col3, #T_64d43_row12_col4, #T_64d43_row12_col5, #T_64d43_row12_col6, #T_64d43_row12_col7, #T_64d43_row13_col0, #T_64d43_row13_col1, #T_64d43_row13_col2, #T_64d43_row13_col3, #T_64d43_row13_col4, #T_64d43_row13_col5, #T_64d43_row13_col6, #T_64d43_row13_col7, #T_64d43_row14_col0, #T_64d43_row14_col1, #T_64d43_row14_col2, #T_64d43_row14_col3, #T_64d43_row14_col4, #T_64d43_row14_col5, #T_64d43_row14_col6, #T_64d43_row14_col7 {\n",
       "  text-align: left;\n",
       "}\n",
       "#T_64d43_row0_col1, #T_64d43_row0_col3, #T_64d43_row0_col4, #T_64d43_row0_col5, #T_64d43_row0_col6, #T_64d43_row0_col7, #T_64d43_row1_col1, #T_64d43_row1_col2, #T_64d43_row1_col3, #T_64d43_row1_col4, #T_64d43_row1_col5, #T_64d43_row1_col6, #T_64d43_row1_col7, #T_64d43_row4_col2 {\n",
       "  text-align: left;\n",
       "  background-color: yellow;\n",
       "}\n",
       "#T_64d43_row0_col8, #T_64d43_row1_col8, #T_64d43_row2_col8, #T_64d43_row3_col8, #T_64d43_row4_col8, #T_64d43_row5_col8, #T_64d43_row6_col8, #T_64d43_row7_col8, #T_64d43_row8_col8, #T_64d43_row9_col8, #T_64d43_row10_col8, #T_64d43_row11_col8, #T_64d43_row12_col8, #T_64d43_row14_col8 {\n",
       "  text-align: left;\n",
       "  background-color: lightgrey;\n",
       "}\n",
       "#T_64d43_row13_col8 {\n",
       "  text-align: left;\n",
       "  background-color: yellow;\n",
       "  background-color: lightgrey;\n",
       "}\n",
       "</style>\n",
       "<table id=\"T_64d43\">\n",
       "  <thead>\n",
       "    <tr>\n",
       "      <th class=\"blank level0\" >&nbsp;</th>\n",
       "      <th id=\"T_64d43_level0_col0\" class=\"col_heading level0 col0\" >Model</th>\n",
       "      <th id=\"T_64d43_level0_col1\" class=\"col_heading level0 col1\" >Accuracy</th>\n",
       "      <th id=\"T_64d43_level0_col2\" class=\"col_heading level0 col2\" >AUC</th>\n",
       "      <th id=\"T_64d43_level0_col3\" class=\"col_heading level0 col3\" >Recall</th>\n",
       "      <th id=\"T_64d43_level0_col4\" class=\"col_heading level0 col4\" >Prec.</th>\n",
       "      <th id=\"T_64d43_level0_col5\" class=\"col_heading level0 col5\" >F1</th>\n",
       "      <th id=\"T_64d43_level0_col6\" class=\"col_heading level0 col6\" >Kappa</th>\n",
       "      <th id=\"T_64d43_level0_col7\" class=\"col_heading level0 col7\" >MCC</th>\n",
       "      <th id=\"T_64d43_level0_col8\" class=\"col_heading level0 col8\" >TT (Sec)</th>\n",
       "    </tr>\n",
       "  </thead>\n",
       "  <tbody>\n",
       "    <tr>\n",
       "      <th id=\"T_64d43_level0_row0\" class=\"row_heading level0 row0\" >ada</th>\n",
       "      <td id=\"T_64d43_row0_col0\" class=\"data row0 col0\" >Ada Boost Classifier</td>\n",
       "      <td id=\"T_64d43_row0_col1\" class=\"data row0 col1\" >0.9818</td>\n",
       "      <td id=\"T_64d43_row0_col2\" class=\"data row0 col2\" >0.9988</td>\n",
       "      <td id=\"T_64d43_row0_col3\" class=\"data row0 col3\" >0.9818</td>\n",
       "      <td id=\"T_64d43_row0_col4\" class=\"data row0 col4\" >0.9864</td>\n",
       "      <td id=\"T_64d43_row0_col5\" class=\"data row0 col5\" >0.9818</td>\n",
       "      <td id=\"T_64d43_row0_col6\" class=\"data row0 col6\" >0.9728</td>\n",
       "      <td id=\"T_64d43_row0_col7\" class=\"data row0 col7\" >0.9750</td>\n",
       "      <td id=\"T_64d43_row0_col8\" class=\"data row0 col8\" >0.0590</td>\n",
       "    </tr>\n",
       "    <tr>\n",
       "      <th id=\"T_64d43_level0_row1\" class=\"row_heading level0 row1\" >lda</th>\n",
       "      <td id=\"T_64d43_row1_col0\" class=\"data row1 col0\" >Linear Discriminant Analysis</td>\n",
       "      <td id=\"T_64d43_row1_col1\" class=\"data row1 col1\" >0.9818</td>\n",
       "      <td id=\"T_64d43_row1_col2\" class=\"data row1 col2\" >1.0000</td>\n",
       "      <td id=\"T_64d43_row1_col3\" class=\"data row1 col3\" >0.9818</td>\n",
       "      <td id=\"T_64d43_row1_col4\" class=\"data row1 col4\" >0.9864</td>\n",
       "      <td id=\"T_64d43_row1_col5\" class=\"data row1 col5\" >0.9818</td>\n",
       "      <td id=\"T_64d43_row1_col6\" class=\"data row1 col6\" >0.9728</td>\n",
       "      <td id=\"T_64d43_row1_col7\" class=\"data row1 col7\" >0.9750</td>\n",
       "      <td id=\"T_64d43_row1_col8\" class=\"data row1 col8\" >0.0400</td>\n",
       "    </tr>\n",
       "    <tr>\n",
       "      <th id=\"T_64d43_level0_row2\" class=\"row_heading level0 row2\" >dt</th>\n",
       "      <td id=\"T_64d43_row2_col0\" class=\"data row2 col0\" >Decision Tree Classifier</td>\n",
       "      <td id=\"T_64d43_row2_col1\" class=\"data row2 col1\" >0.9809</td>\n",
       "      <td id=\"T_64d43_row2_col2\" class=\"data row2 col2\" >0.9866</td>\n",
       "      <td id=\"T_64d43_row2_col3\" class=\"data row2 col3\" >0.9809</td>\n",
       "      <td id=\"T_64d43_row2_col4\" class=\"data row2 col4\" >0.9857</td>\n",
       "      <td id=\"T_64d43_row2_col5\" class=\"data row2 col5\" >0.9809</td>\n",
       "      <td id=\"T_64d43_row2_col6\" class=\"data row2 col6\" >0.9715</td>\n",
       "      <td id=\"T_64d43_row2_col7\" class=\"data row2 col7\" >0.9739</td>\n",
       "      <td id=\"T_64d43_row2_col8\" class=\"data row2 col8\" >0.0330</td>\n",
       "    </tr>\n",
       "    <tr>\n",
       "      <th id=\"T_64d43_level0_row3\" class=\"row_heading level0 row3\" >lr</th>\n",
       "      <td id=\"T_64d43_row3_col0\" class=\"data row3 col0\" >Logistic Regression</td>\n",
       "      <td id=\"T_64d43_row3_col1\" class=\"data row3 col1\" >0.9727</td>\n",
       "      <td id=\"T_64d43_row3_col2\" class=\"data row3 col2\" >0.9976</td>\n",
       "      <td id=\"T_64d43_row3_col3\" class=\"data row3 col3\" >0.9727</td>\n",
       "      <td id=\"T_64d43_row3_col4\" class=\"data row3 col4\" >0.9750</td>\n",
       "      <td id=\"T_64d43_row3_col5\" class=\"data row3 col5\" >0.9727</td>\n",
       "      <td id=\"T_64d43_row3_col6\" class=\"data row3 col6\" >0.9589</td>\n",
       "      <td id=\"T_64d43_row3_col7\" class=\"data row3 col7\" >0.9600</td>\n",
       "      <td id=\"T_64d43_row3_col8\" class=\"data row3 col8\" >0.3560</td>\n",
       "    </tr>\n",
       "    <tr>\n",
       "      <th id=\"T_64d43_level0_row4\" class=\"row_heading level0 row4\" >qda</th>\n",
       "      <td id=\"T_64d43_row4_col0\" class=\"data row4 col0\" >Quadratic Discriminant Analysis</td>\n",
       "      <td id=\"T_64d43_row4_col1\" class=\"data row4 col1\" >0.9727</td>\n",
       "      <td id=\"T_64d43_row4_col2\" class=\"data row4 col2\" >1.0000</td>\n",
       "      <td id=\"T_64d43_row4_col3\" class=\"data row4 col3\" >0.9727</td>\n",
       "      <td id=\"T_64d43_row4_col4\" class=\"data row4 col4\" >0.9795</td>\n",
       "      <td id=\"T_64d43_row4_col5\" class=\"data row4 col5\" >0.9727</td>\n",
       "      <td id=\"T_64d43_row4_col6\" class=\"data row4 col6\" >0.9593</td>\n",
       "      <td id=\"T_64d43_row4_col7\" class=\"data row4 col7\" >0.9625</td>\n",
       "      <td id=\"T_64d43_row4_col8\" class=\"data row4 col8\" >0.0340</td>\n",
       "    </tr>\n",
       "    <tr>\n",
       "      <th id=\"T_64d43_level0_row5\" class=\"row_heading level0 row5\" >lightgbm</th>\n",
       "      <td id=\"T_64d43_row5_col0\" class=\"data row5 col0\" >Light Gradient Boosting Machine</td>\n",
       "      <td id=\"T_64d43_row5_col1\" class=\"data row5 col1\" >0.9727</td>\n",
       "      <td id=\"T_64d43_row5_col2\" class=\"data row5 col2\" >0.9877</td>\n",
       "      <td id=\"T_64d43_row5_col3\" class=\"data row5 col3\" >0.9727</td>\n",
       "      <td id=\"T_64d43_row5_col4\" class=\"data row5 col4\" >0.9791</td>\n",
       "      <td id=\"T_64d43_row5_col5\" class=\"data row5 col5\" >0.9723</td>\n",
       "      <td id=\"T_64d43_row5_col6\" class=\"data row5 col6\" >0.9589</td>\n",
       "      <td id=\"T_64d43_row5_col7\" class=\"data row5 col7\" >0.9622</td>\n",
       "      <td id=\"T_64d43_row5_col8\" class=\"data row5 col8\" >0.0550</td>\n",
       "    </tr>\n",
       "    <tr>\n",
       "      <th id=\"T_64d43_level0_row6\" class=\"row_heading level0 row6\" >gbc</th>\n",
       "      <td id=\"T_64d43_row6_col0\" class=\"data row6 col0\" >Gradient Boosting Classifier</td>\n",
       "      <td id=\"T_64d43_row6_col1\" class=\"data row6 col1\" >0.9718</td>\n",
       "      <td id=\"T_64d43_row6_col2\" class=\"data row6 col2\" >0.9989</td>\n",
       "      <td id=\"T_64d43_row6_col3\" class=\"data row6 col3\" >0.9718</td>\n",
       "      <td id=\"T_64d43_row6_col4\" class=\"data row6 col4\" >0.9784</td>\n",
       "      <td id=\"T_64d43_row6_col5\" class=\"data row6 col5\" >0.9714</td>\n",
       "      <td id=\"T_64d43_row6_col6\" class=\"data row6 col6\" >0.9576</td>\n",
       "      <td id=\"T_64d43_row6_col7\" class=\"data row6 col7\" >0.9611</td>\n",
       "      <td id=\"T_64d43_row6_col8\" class=\"data row6 col8\" >0.1470</td>\n",
       "    </tr>\n",
       "    <tr>\n",
       "      <th id=\"T_64d43_level0_row7\" class=\"row_heading level0 row7\" >nb</th>\n",
       "      <td id=\"T_64d43_row7_col0\" class=\"data row7 col0\" >Naive Bayes</td>\n",
       "      <td id=\"T_64d43_row7_col1\" class=\"data row7 col1\" >0.9636</td>\n",
       "      <td id=\"T_64d43_row7_col2\" class=\"data row7 col2\" >0.9951</td>\n",
       "      <td id=\"T_64d43_row7_col3\" class=\"data row7 col3\" >0.9636</td>\n",
       "      <td id=\"T_64d43_row7_col4\" class=\"data row7 col4\" >0.9677</td>\n",
       "      <td id=\"T_64d43_row7_col5\" class=\"data row7 col5\" >0.9632</td>\n",
       "      <td id=\"T_64d43_row7_col6\" class=\"data row7 col6\" >0.9450</td>\n",
       "      <td id=\"T_64d43_row7_col7\" class=\"data row7 col7\" >0.9472</td>\n",
       "      <td id=\"T_64d43_row7_col8\" class=\"data row7 col8\" >0.0340</td>\n",
       "    </tr>\n",
       "    <tr>\n",
       "      <th id=\"T_64d43_level0_row8\" class=\"row_heading level0 row8\" >et</th>\n",
       "      <td id=\"T_64d43_row8_col0\" class=\"data row8 col0\" >Extra Trees Classifier</td>\n",
       "      <td id=\"T_64d43_row8_col1\" class=\"data row8 col1\" >0.9636</td>\n",
       "      <td id=\"T_64d43_row8_col2\" class=\"data row8 col2\" >0.9976</td>\n",
       "      <td id=\"T_64d43_row8_col3\" class=\"data row8 col3\" >0.9636</td>\n",
       "      <td id=\"T_64d43_row8_col4\" class=\"data row8 col4\" >0.9677</td>\n",
       "      <td id=\"T_64d43_row8_col5\" class=\"data row8 col5\" >0.9632</td>\n",
       "      <td id=\"T_64d43_row8_col6\" class=\"data row8 col6\" >0.9450</td>\n",
       "      <td id=\"T_64d43_row8_col7\" class=\"data row8 col7\" >0.9472</td>\n",
       "      <td id=\"T_64d43_row8_col8\" class=\"data row8 col8\" >0.1140</td>\n",
       "    </tr>\n",
       "    <tr>\n",
       "      <th id=\"T_64d43_level0_row9\" class=\"row_heading level0 row9\" >xgboost</th>\n",
       "      <td id=\"T_64d43_row9_col0\" class=\"data row9 col0\" >Extreme Gradient Boosting</td>\n",
       "      <td id=\"T_64d43_row9_col1\" class=\"data row9 col1\" >0.9636</td>\n",
       "      <td id=\"T_64d43_row9_col2\" class=\"data row9 col2\" >0.9963</td>\n",
       "      <td id=\"T_64d43_row9_col3\" class=\"data row9 col3\" >0.9636</td>\n",
       "      <td id=\"T_64d43_row9_col4\" class=\"data row9 col4\" >0.9742</td>\n",
       "      <td id=\"T_64d43_row9_col5\" class=\"data row9 col5\" >0.9609</td>\n",
       "      <td id=\"T_64d43_row9_col6\" class=\"data row9 col6\" >0.9446</td>\n",
       "      <td id=\"T_64d43_row9_col7\" class=\"data row9 col7\" >0.9509</td>\n",
       "      <td id=\"T_64d43_row9_col8\" class=\"data row9 col8\" >0.0510</td>\n",
       "    </tr>\n",
       "    <tr>\n",
       "      <th id=\"T_64d43_level0_row10\" class=\"row_heading level0 row10\" >knn</th>\n",
       "      <td id=\"T_64d43_row10_col0\" class=\"data row10 col0\" >K Neighbors Classifier</td>\n",
       "      <td id=\"T_64d43_row10_col1\" class=\"data row10 col1\" >0.9627</td>\n",
       "      <td id=\"T_64d43_row10_col2\" class=\"data row10 col2\" >0.9913</td>\n",
       "      <td id=\"T_64d43_row10_col3\" class=\"data row10 col3\" >0.9627</td>\n",
       "      <td id=\"T_64d43_row10_col4\" class=\"data row10 col4\" >0.9670</td>\n",
       "      <td id=\"T_64d43_row10_col5\" class=\"data row10 col5\" >0.9623</td>\n",
       "      <td id=\"T_64d43_row10_col6\" class=\"data row10 col6\" >0.9435</td>\n",
       "      <td id=\"T_64d43_row10_col7\" class=\"data row10 col7\" >0.9460</td>\n",
       "      <td id=\"T_64d43_row10_col8\" class=\"data row10 col8\" >0.0380</td>\n",
       "    </tr>\n",
       "    <tr>\n",
       "      <th id=\"T_64d43_level0_row11\" class=\"row_heading level0 row11\" >rf</th>\n",
       "      <td id=\"T_64d43_row11_col0\" class=\"data row11 col0\" >Random Forest Classifier</td>\n",
       "      <td id=\"T_64d43_row11_col1\" class=\"data row11 col1\" >0.9627</td>\n",
       "      <td id=\"T_64d43_row11_col2\" class=\"data row11 col2\" >0.9976</td>\n",
       "      <td id=\"T_64d43_row11_col3\" class=\"data row11 col3\" >0.9627</td>\n",
       "      <td id=\"T_64d43_row11_col4\" class=\"data row11 col4\" >0.9716</td>\n",
       "      <td id=\"T_64d43_row11_col5\" class=\"data row11 col5\" >0.9623</td>\n",
       "      <td id=\"T_64d43_row11_col6\" class=\"data row11 col6\" >0.9440</td>\n",
       "      <td id=\"T_64d43_row11_col7\" class=\"data row11 col7\" >0.9486</td>\n",
       "      <td id=\"T_64d43_row11_col8\" class=\"data row11 col8\" >0.1100</td>\n",
       "    </tr>\n",
       "    <tr>\n",
       "      <th id=\"T_64d43_level0_row12\" class=\"row_heading level0 row12\" >ridge</th>\n",
       "      <td id=\"T_64d43_row12_col0\" class=\"data row12 col0\" >Ridge Classifier</td>\n",
       "      <td id=\"T_64d43_row12_col1\" class=\"data row12 col1\" >0.8482</td>\n",
       "      <td id=\"T_64d43_row12_col2\" class=\"data row12 col2\" >0.0000</td>\n",
       "      <td id=\"T_64d43_row12_col3\" class=\"data row12 col3\" >0.8482</td>\n",
       "      <td id=\"T_64d43_row12_col4\" class=\"data row12 col4\" >0.8665</td>\n",
       "      <td id=\"T_64d43_row12_col5\" class=\"data row12 col5\" >0.8446</td>\n",
       "      <td id=\"T_64d43_row12_col6\" class=\"data row12 col6\" >0.7703</td>\n",
       "      <td id=\"T_64d43_row12_col7\" class=\"data row12 col7\" >0.7821</td>\n",
       "      <td id=\"T_64d43_row12_col8\" class=\"data row12 col8\" >0.0320</td>\n",
       "    </tr>\n",
       "    <tr>\n",
       "      <th id=\"T_64d43_level0_row13\" class=\"row_heading level0 row13\" >svm</th>\n",
       "      <td id=\"T_64d43_row13_col0\" class=\"data row13 col0\" >SVM - Linear Kernel</td>\n",
       "      <td id=\"T_64d43_row13_col1\" class=\"data row13 col1\" >0.8209</td>\n",
       "      <td id=\"T_64d43_row13_col2\" class=\"data row13 col2\" >0.0000</td>\n",
       "      <td id=\"T_64d43_row13_col3\" class=\"data row13 col3\" >0.8209</td>\n",
       "      <td id=\"T_64d43_row13_col4\" class=\"data row13 col4\" >0.8175</td>\n",
       "      <td id=\"T_64d43_row13_col5\" class=\"data row13 col5\" >0.7898</td>\n",
       "      <td id=\"T_64d43_row13_col6\" class=\"data row13 col6\" >0.7325</td>\n",
       "      <td id=\"T_64d43_row13_col7\" class=\"data row13 col7\" >0.7736</td>\n",
       "      <td id=\"T_64d43_row13_col8\" class=\"data row13 col8\" >0.0310</td>\n",
       "    </tr>\n",
       "    <tr>\n",
       "      <th id=\"T_64d43_level0_row14\" class=\"row_heading level0 row14\" >dummy</th>\n",
       "      <td id=\"T_64d43_row14_col0\" class=\"data row14 col0\" >Dummy Classifier</td>\n",
       "      <td id=\"T_64d43_row14_col1\" class=\"data row14 col1\" >0.2864</td>\n",
       "      <td id=\"T_64d43_row14_col2\" class=\"data row14 col2\" >0.5000</td>\n",
       "      <td id=\"T_64d43_row14_col3\" class=\"data row14 col3\" >0.2864</td>\n",
       "      <td id=\"T_64d43_row14_col4\" class=\"data row14 col4\" >0.0822</td>\n",
       "      <td id=\"T_64d43_row14_col5\" class=\"data row14 col5\" >0.1277</td>\n",
       "      <td id=\"T_64d43_row14_col6\" class=\"data row14 col6\" >0.0000</td>\n",
       "      <td id=\"T_64d43_row14_col7\" class=\"data row14 col7\" >0.0000</td>\n",
       "      <td id=\"T_64d43_row14_col8\" class=\"data row14 col8\" >0.0340</td>\n",
       "    </tr>\n",
       "  </tbody>\n",
       "</table>\n"
      ],
      "text/plain": [
       "<pandas.io.formats.style.Styler at 0x7f783e1c61a0>"
      ]
     },
     "metadata": {},
     "output_type": "display_data"
    },
    {
     "data": {
      "text/html": [],
      "text/plain": [
       "<IPython.core.display.HTML object>"
      ]
     },
     "metadata": {},
     "output_type": "display_data"
    }
   ],
   "source": [
    "best = compare_models()"
   ]
  },
  {
   "cell_type": "code",
   "execution_count": null,
   "metadata": {},
   "outputs": [
    {
     "data": {
      "text/html": [],
      "text/plain": [
       "<IPython.core.display.HTML object>"
      ]
     },
     "metadata": {},
     "output_type": "display_data"
    },
    {
     "data": {
      "text/html": [
       "<style type=\"text/css\">\n",
       "#T_ada35_row10_col0, #T_ada35_row10_col1, #T_ada35_row10_col2, #T_ada35_row10_col3, #T_ada35_row10_col4, #T_ada35_row10_col5, #T_ada35_row10_col6 {\n",
       "  background: yellow;\n",
       "}\n",
       "</style>\n",
       "<table id=\"T_ada35\">\n",
       "  <thead>\n",
       "    <tr>\n",
       "      <th class=\"blank level0\" >&nbsp;</th>\n",
       "      <th id=\"T_ada35_level0_col0\" class=\"col_heading level0 col0\" >Accuracy</th>\n",
       "      <th id=\"T_ada35_level0_col1\" class=\"col_heading level0 col1\" >AUC</th>\n",
       "      <th id=\"T_ada35_level0_col2\" class=\"col_heading level0 col2\" >Recall</th>\n",
       "      <th id=\"T_ada35_level0_col3\" class=\"col_heading level0 col3\" >Prec.</th>\n",
       "      <th id=\"T_ada35_level0_col4\" class=\"col_heading level0 col4\" >F1</th>\n",
       "      <th id=\"T_ada35_level0_col5\" class=\"col_heading level0 col5\" >Kappa</th>\n",
       "      <th id=\"T_ada35_level0_col6\" class=\"col_heading level0 col6\" >MCC</th>\n",
       "    </tr>\n",
       "    <tr>\n",
       "      <th class=\"index_name level0\" >Fold</th>\n",
       "      <th class=\"blank col0\" >&nbsp;</th>\n",
       "      <th class=\"blank col1\" >&nbsp;</th>\n",
       "      <th class=\"blank col2\" >&nbsp;</th>\n",
       "      <th class=\"blank col3\" >&nbsp;</th>\n",
       "      <th class=\"blank col4\" >&nbsp;</th>\n",
       "      <th class=\"blank col5\" >&nbsp;</th>\n",
       "      <th class=\"blank col6\" >&nbsp;</th>\n",
       "    </tr>\n",
       "  </thead>\n",
       "  <tbody>\n",
       "    <tr>\n",
       "      <th id=\"T_ada35_level0_row0\" class=\"row_heading level0 row0\" >0</th>\n",
       "      <td id=\"T_ada35_row0_col0\" class=\"data row0 col0\" >0.9091</td>\n",
       "      <td id=\"T_ada35_row0_col1\" class=\"data row0 col1\" >0.9878</td>\n",
       "      <td id=\"T_ada35_row0_col2\" class=\"data row0 col2\" >0.9091</td>\n",
       "      <td id=\"T_ada35_row0_col3\" class=\"data row0 col3\" >0.9318</td>\n",
       "      <td id=\"T_ada35_row0_col4\" class=\"data row0 col4\" >0.9091</td>\n",
       "      <td id=\"T_ada35_row0_col5\" class=\"data row0 col5\" >0.8642</td>\n",
       "      <td id=\"T_ada35_row0_col6\" class=\"data row0 col6\" >0.8750</td>\n",
       "    </tr>\n",
       "    <tr>\n",
       "      <th id=\"T_ada35_level0_row1\" class=\"row_heading level0 row1\" >1</th>\n",
       "      <td id=\"T_ada35_row1_col0\" class=\"data row1 col0\" >0.9091</td>\n",
       "      <td id=\"T_ada35_row1_col1\" class=\"data row1 col1\" >1.0000</td>\n",
       "      <td id=\"T_ada35_row1_col2\" class=\"data row1 col2\" >0.9091</td>\n",
       "      <td id=\"T_ada35_row1_col3\" class=\"data row1 col3\" >0.9318</td>\n",
       "      <td id=\"T_ada35_row1_col4\" class=\"data row1 col4\" >0.9091</td>\n",
       "      <td id=\"T_ada35_row1_col5\" class=\"data row1 col5\" >0.8642</td>\n",
       "      <td id=\"T_ada35_row1_col6\" class=\"data row1 col6\" >0.8750</td>\n",
       "    </tr>\n",
       "    <tr>\n",
       "      <th id=\"T_ada35_level0_row2\" class=\"row_heading level0 row2\" >2</th>\n",
       "      <td id=\"T_ada35_row2_col0\" class=\"data row2 col0\" >1.0000</td>\n",
       "      <td id=\"T_ada35_row2_col1\" class=\"data row2 col1\" >1.0000</td>\n",
       "      <td id=\"T_ada35_row2_col2\" class=\"data row2 col2\" >1.0000</td>\n",
       "      <td id=\"T_ada35_row2_col3\" class=\"data row2 col3\" >1.0000</td>\n",
       "      <td id=\"T_ada35_row2_col4\" class=\"data row2 col4\" >1.0000</td>\n",
       "      <td id=\"T_ada35_row2_col5\" class=\"data row2 col5\" >1.0000</td>\n",
       "      <td id=\"T_ada35_row2_col6\" class=\"data row2 col6\" >1.0000</td>\n",
       "    </tr>\n",
       "    <tr>\n",
       "      <th id=\"T_ada35_level0_row3\" class=\"row_heading level0 row3\" >3</th>\n",
       "      <td id=\"T_ada35_row3_col0\" class=\"data row3 col0\" >1.0000</td>\n",
       "      <td id=\"T_ada35_row3_col1\" class=\"data row3 col1\" >1.0000</td>\n",
       "      <td id=\"T_ada35_row3_col2\" class=\"data row3 col2\" >1.0000</td>\n",
       "      <td id=\"T_ada35_row3_col3\" class=\"data row3 col3\" >1.0000</td>\n",
       "      <td id=\"T_ada35_row3_col4\" class=\"data row3 col4\" >1.0000</td>\n",
       "      <td id=\"T_ada35_row3_col5\" class=\"data row3 col5\" >1.0000</td>\n",
       "      <td id=\"T_ada35_row3_col6\" class=\"data row3 col6\" >1.0000</td>\n",
       "    </tr>\n",
       "    <tr>\n",
       "      <th id=\"T_ada35_level0_row4\" class=\"row_heading level0 row4\" >4</th>\n",
       "      <td id=\"T_ada35_row4_col0\" class=\"data row4 col0\" >1.0000</td>\n",
       "      <td id=\"T_ada35_row4_col1\" class=\"data row4 col1\" >1.0000</td>\n",
       "      <td id=\"T_ada35_row4_col2\" class=\"data row4 col2\" >1.0000</td>\n",
       "      <td id=\"T_ada35_row4_col3\" class=\"data row4 col3\" >1.0000</td>\n",
       "      <td id=\"T_ada35_row4_col4\" class=\"data row4 col4\" >1.0000</td>\n",
       "      <td id=\"T_ada35_row4_col5\" class=\"data row4 col5\" >1.0000</td>\n",
       "      <td id=\"T_ada35_row4_col6\" class=\"data row4 col6\" >1.0000</td>\n",
       "    </tr>\n",
       "    <tr>\n",
       "      <th id=\"T_ada35_level0_row5\" class=\"row_heading level0 row5\" >5</th>\n",
       "      <td id=\"T_ada35_row5_col0\" class=\"data row5 col0\" >1.0000</td>\n",
       "      <td id=\"T_ada35_row5_col1\" class=\"data row5 col1\" >1.0000</td>\n",
       "      <td id=\"T_ada35_row5_col2\" class=\"data row5 col2\" >1.0000</td>\n",
       "      <td id=\"T_ada35_row5_col3\" class=\"data row5 col3\" >1.0000</td>\n",
       "      <td id=\"T_ada35_row5_col4\" class=\"data row5 col4\" >1.0000</td>\n",
       "      <td id=\"T_ada35_row5_col5\" class=\"data row5 col5\" >1.0000</td>\n",
       "      <td id=\"T_ada35_row5_col6\" class=\"data row5 col6\" >1.0000</td>\n",
       "    </tr>\n",
       "    <tr>\n",
       "      <th id=\"T_ada35_level0_row6\" class=\"row_heading level0 row6\" >6</th>\n",
       "      <td id=\"T_ada35_row6_col0\" class=\"data row6 col0\" >1.0000</td>\n",
       "      <td id=\"T_ada35_row6_col1\" class=\"data row6 col1\" >1.0000</td>\n",
       "      <td id=\"T_ada35_row6_col2\" class=\"data row6 col2\" >1.0000</td>\n",
       "      <td id=\"T_ada35_row6_col3\" class=\"data row6 col3\" >1.0000</td>\n",
       "      <td id=\"T_ada35_row6_col4\" class=\"data row6 col4\" >1.0000</td>\n",
       "      <td id=\"T_ada35_row6_col5\" class=\"data row6 col5\" >1.0000</td>\n",
       "      <td id=\"T_ada35_row6_col6\" class=\"data row6 col6\" >1.0000</td>\n",
       "    </tr>\n",
       "    <tr>\n",
       "      <th id=\"T_ada35_level0_row7\" class=\"row_heading level0 row7\" >7</th>\n",
       "      <td id=\"T_ada35_row7_col0\" class=\"data row7 col0\" >1.0000</td>\n",
       "      <td id=\"T_ada35_row7_col1\" class=\"data row7 col1\" >1.0000</td>\n",
       "      <td id=\"T_ada35_row7_col2\" class=\"data row7 col2\" >1.0000</td>\n",
       "      <td id=\"T_ada35_row7_col3\" class=\"data row7 col3\" >1.0000</td>\n",
       "      <td id=\"T_ada35_row7_col4\" class=\"data row7 col4\" >1.0000</td>\n",
       "      <td id=\"T_ada35_row7_col5\" class=\"data row7 col5\" >1.0000</td>\n",
       "      <td id=\"T_ada35_row7_col6\" class=\"data row7 col6\" >1.0000</td>\n",
       "    </tr>\n",
       "    <tr>\n",
       "      <th id=\"T_ada35_level0_row8\" class=\"row_heading level0 row8\" >8</th>\n",
       "      <td id=\"T_ada35_row8_col0\" class=\"data row8 col0\" >1.0000</td>\n",
       "      <td id=\"T_ada35_row8_col1\" class=\"data row8 col1\" >1.0000</td>\n",
       "      <td id=\"T_ada35_row8_col2\" class=\"data row8 col2\" >1.0000</td>\n",
       "      <td id=\"T_ada35_row8_col3\" class=\"data row8 col3\" >1.0000</td>\n",
       "      <td id=\"T_ada35_row8_col4\" class=\"data row8 col4\" >1.0000</td>\n",
       "      <td id=\"T_ada35_row8_col5\" class=\"data row8 col5\" >1.0000</td>\n",
       "      <td id=\"T_ada35_row8_col6\" class=\"data row8 col6\" >1.0000</td>\n",
       "    </tr>\n",
       "    <tr>\n",
       "      <th id=\"T_ada35_level0_row9\" class=\"row_heading level0 row9\" >9</th>\n",
       "      <td id=\"T_ada35_row9_col0\" class=\"data row9 col0\" >1.0000</td>\n",
       "      <td id=\"T_ada35_row9_col1\" class=\"data row9 col1\" >1.0000</td>\n",
       "      <td id=\"T_ada35_row9_col2\" class=\"data row9 col2\" >1.0000</td>\n",
       "      <td id=\"T_ada35_row9_col3\" class=\"data row9 col3\" >1.0000</td>\n",
       "      <td id=\"T_ada35_row9_col4\" class=\"data row9 col4\" >1.0000</td>\n",
       "      <td id=\"T_ada35_row9_col5\" class=\"data row9 col5\" >1.0000</td>\n",
       "      <td id=\"T_ada35_row9_col6\" class=\"data row9 col6\" >1.0000</td>\n",
       "    </tr>\n",
       "    <tr>\n",
       "      <th id=\"T_ada35_level0_row10\" class=\"row_heading level0 row10\" >Mean</th>\n",
       "      <td id=\"T_ada35_row10_col0\" class=\"data row10 col0\" >0.9818</td>\n",
       "      <td id=\"T_ada35_row10_col1\" class=\"data row10 col1\" >0.9988</td>\n",
       "      <td id=\"T_ada35_row10_col2\" class=\"data row10 col2\" >0.9818</td>\n",
       "      <td id=\"T_ada35_row10_col3\" class=\"data row10 col3\" >0.9864</td>\n",
       "      <td id=\"T_ada35_row10_col4\" class=\"data row10 col4\" >0.9818</td>\n",
       "      <td id=\"T_ada35_row10_col5\" class=\"data row10 col5\" >0.9728</td>\n",
       "      <td id=\"T_ada35_row10_col6\" class=\"data row10 col6\" >0.9750</td>\n",
       "    </tr>\n",
       "    <tr>\n",
       "      <th id=\"T_ada35_level0_row11\" class=\"row_heading level0 row11\" >Std</th>\n",
       "      <td id=\"T_ada35_row11_col0\" class=\"data row11 col0\" >0.0364</td>\n",
       "      <td id=\"T_ada35_row11_col1\" class=\"data row11 col1\" >0.0037</td>\n",
       "      <td id=\"T_ada35_row11_col2\" class=\"data row11 col2\" >0.0364</td>\n",
       "      <td id=\"T_ada35_row11_col3\" class=\"data row11 col3\" >0.0273</td>\n",
       "      <td id=\"T_ada35_row11_col4\" class=\"data row11 col4\" >0.0364</td>\n",
       "      <td id=\"T_ada35_row11_col5\" class=\"data row11 col5\" >0.0543</td>\n",
       "      <td id=\"T_ada35_row11_col6\" class=\"data row11 col6\" >0.0500</td>\n",
       "    </tr>\n",
       "  </tbody>\n",
       "</table>\n"
      ],
      "text/plain": [
       "<pandas.io.formats.style.Styler at 0x7f781c6f9b70>"
      ]
     },
     "metadata": {},
     "output_type": "display_data"
    },
    {
     "data": {
      "text/html": [],
      "text/plain": [
       "<IPython.core.display.HTML object>"
      ]
     },
     "metadata": {},
     "output_type": "display_data"
    }
   ],
   "source": [
    "ada = create_model('ada')"
   ]
  },
  {
   "cell_type": "code",
   "execution_count": null,
   "metadata": {},
   "outputs": [
    {
     "data": {
      "text/html": [],
      "text/plain": [
       "<IPython.core.display.HTML object>"
      ]
     },
     "metadata": {},
     "output_type": "display_data"
    },
    {
     "data": {
      "text/html": [
       "<style type=\"text/css\">\n",
       "#T_8df41_row10_col0, #T_8df41_row10_col1, #T_8df41_row10_col2, #T_8df41_row10_col3, #T_8df41_row10_col4, #T_8df41_row10_col5, #T_8df41_row10_col6 {\n",
       "  background: yellow;\n",
       "}\n",
       "</style>\n",
       "<table id=\"T_8df41\">\n",
       "  <thead>\n",
       "    <tr>\n",
       "      <th class=\"blank level0\" >&nbsp;</th>\n",
       "      <th id=\"T_8df41_level0_col0\" class=\"col_heading level0 col0\" >Accuracy</th>\n",
       "      <th id=\"T_8df41_level0_col1\" class=\"col_heading level0 col1\" >AUC</th>\n",
       "      <th id=\"T_8df41_level0_col2\" class=\"col_heading level0 col2\" >Recall</th>\n",
       "      <th id=\"T_8df41_level0_col3\" class=\"col_heading level0 col3\" >Prec.</th>\n",
       "      <th id=\"T_8df41_level0_col4\" class=\"col_heading level0 col4\" >F1</th>\n",
       "      <th id=\"T_8df41_level0_col5\" class=\"col_heading level0 col5\" >Kappa</th>\n",
       "      <th id=\"T_8df41_level0_col6\" class=\"col_heading level0 col6\" >MCC</th>\n",
       "    </tr>\n",
       "    <tr>\n",
       "      <th class=\"index_name level0\" >Fold</th>\n",
       "      <th class=\"blank col0\" >&nbsp;</th>\n",
       "      <th class=\"blank col1\" >&nbsp;</th>\n",
       "      <th class=\"blank col2\" >&nbsp;</th>\n",
       "      <th class=\"blank col3\" >&nbsp;</th>\n",
       "      <th class=\"blank col4\" >&nbsp;</th>\n",
       "      <th class=\"blank col5\" >&nbsp;</th>\n",
       "      <th class=\"blank col6\" >&nbsp;</th>\n",
       "    </tr>\n",
       "  </thead>\n",
       "  <tbody>\n",
       "    <tr>\n",
       "      <th id=\"T_8df41_level0_row0\" class=\"row_heading level0 row0\" >0</th>\n",
       "      <td id=\"T_8df41_row0_col0\" class=\"data row0 col0\" >0.9091</td>\n",
       "      <td id=\"T_8df41_row0_col1\" class=\"data row0 col1\" >0.9756</td>\n",
       "      <td id=\"T_8df41_row0_col2\" class=\"data row0 col2\" >0.9091</td>\n",
       "      <td id=\"T_8df41_row0_col3\" class=\"data row0 col3\" >0.9318</td>\n",
       "      <td id=\"T_8df41_row0_col4\" class=\"data row0 col4\" >0.9091</td>\n",
       "      <td id=\"T_8df41_row0_col5\" class=\"data row0 col5\" >0.8642</td>\n",
       "      <td id=\"T_8df41_row0_col6\" class=\"data row0 col6\" >0.8750</td>\n",
       "    </tr>\n",
       "    <tr>\n",
       "      <th id=\"T_8df41_level0_row1\" class=\"row_heading level0 row1\" >1</th>\n",
       "      <td id=\"T_8df41_row1_col0\" class=\"data row1 col0\" >0.9091</td>\n",
       "      <td id=\"T_8df41_row1_col1\" class=\"data row1 col1\" >1.0000</td>\n",
       "      <td id=\"T_8df41_row1_col2\" class=\"data row1 col2\" >0.9091</td>\n",
       "      <td id=\"T_8df41_row1_col3\" class=\"data row1 col3\" >0.9318</td>\n",
       "      <td id=\"T_8df41_row1_col4\" class=\"data row1 col4\" >0.9091</td>\n",
       "      <td id=\"T_8df41_row1_col5\" class=\"data row1 col5\" >0.8642</td>\n",
       "      <td id=\"T_8df41_row1_col6\" class=\"data row1 col6\" >0.8750</td>\n",
       "    </tr>\n",
       "    <tr>\n",
       "      <th id=\"T_8df41_level0_row2\" class=\"row_heading level0 row2\" >2</th>\n",
       "      <td id=\"T_8df41_row2_col0\" class=\"data row2 col0\" >1.0000</td>\n",
       "      <td id=\"T_8df41_row2_col1\" class=\"data row2 col1\" >1.0000</td>\n",
       "      <td id=\"T_8df41_row2_col2\" class=\"data row2 col2\" >1.0000</td>\n",
       "      <td id=\"T_8df41_row2_col3\" class=\"data row2 col3\" >1.0000</td>\n",
       "      <td id=\"T_8df41_row2_col4\" class=\"data row2 col4\" >1.0000</td>\n",
       "      <td id=\"T_8df41_row2_col5\" class=\"data row2 col5\" >1.0000</td>\n",
       "      <td id=\"T_8df41_row2_col6\" class=\"data row2 col6\" >1.0000</td>\n",
       "    </tr>\n",
       "    <tr>\n",
       "      <th id=\"T_8df41_level0_row3\" class=\"row_heading level0 row3\" >3</th>\n",
       "      <td id=\"T_8df41_row3_col0\" class=\"data row3 col0\" >0.9091</td>\n",
       "      <td id=\"T_8df41_row3_col1\" class=\"data row3 col1\" >1.0000</td>\n",
       "      <td id=\"T_8df41_row3_col2\" class=\"data row3 col2\" >0.9091</td>\n",
       "      <td id=\"T_8df41_row3_col3\" class=\"data row3 col3\" >0.9273</td>\n",
       "      <td id=\"T_8df41_row3_col4\" class=\"data row3 col4\" >0.9051</td>\n",
       "      <td id=\"T_8df41_row3_col5\" class=\"data row3 col5\" >0.8608</td>\n",
       "      <td id=\"T_8df41_row3_col6\" class=\"data row3 col6\" >0.8721</td>\n",
       "    </tr>\n",
       "    <tr>\n",
       "      <th id=\"T_8df41_level0_row4\" class=\"row_heading level0 row4\" >4</th>\n",
       "      <td id=\"T_8df41_row4_col0\" class=\"data row4 col0\" >1.0000</td>\n",
       "      <td id=\"T_8df41_row4_col1\" class=\"data row4 col1\" >1.0000</td>\n",
       "      <td id=\"T_8df41_row4_col2\" class=\"data row4 col2\" >1.0000</td>\n",
       "      <td id=\"T_8df41_row4_col3\" class=\"data row4 col3\" >1.0000</td>\n",
       "      <td id=\"T_8df41_row4_col4\" class=\"data row4 col4\" >1.0000</td>\n",
       "      <td id=\"T_8df41_row4_col5\" class=\"data row4 col5\" >1.0000</td>\n",
       "      <td id=\"T_8df41_row4_col6\" class=\"data row4 col6\" >1.0000</td>\n",
       "    </tr>\n",
       "    <tr>\n",
       "      <th id=\"T_8df41_level0_row5\" class=\"row_heading level0 row5\" >5</th>\n",
       "      <td id=\"T_8df41_row5_col0\" class=\"data row5 col0\" >1.0000</td>\n",
       "      <td id=\"T_8df41_row5_col1\" class=\"data row5 col1\" >1.0000</td>\n",
       "      <td id=\"T_8df41_row5_col2\" class=\"data row5 col2\" >1.0000</td>\n",
       "      <td id=\"T_8df41_row5_col3\" class=\"data row5 col3\" >1.0000</td>\n",
       "      <td id=\"T_8df41_row5_col4\" class=\"data row5 col4\" >1.0000</td>\n",
       "      <td id=\"T_8df41_row5_col5\" class=\"data row5 col5\" >1.0000</td>\n",
       "      <td id=\"T_8df41_row5_col6\" class=\"data row5 col6\" >1.0000</td>\n",
       "    </tr>\n",
       "    <tr>\n",
       "      <th id=\"T_8df41_level0_row6\" class=\"row_heading level0 row6\" >6</th>\n",
       "      <td id=\"T_8df41_row6_col0\" class=\"data row6 col0\" >1.0000</td>\n",
       "      <td id=\"T_8df41_row6_col1\" class=\"data row6 col1\" >1.0000</td>\n",
       "      <td id=\"T_8df41_row6_col2\" class=\"data row6 col2\" >1.0000</td>\n",
       "      <td id=\"T_8df41_row6_col3\" class=\"data row6 col3\" >1.0000</td>\n",
       "      <td id=\"T_8df41_row6_col4\" class=\"data row6 col4\" >1.0000</td>\n",
       "      <td id=\"T_8df41_row6_col5\" class=\"data row6 col5\" >1.0000</td>\n",
       "      <td id=\"T_8df41_row6_col6\" class=\"data row6 col6\" >1.0000</td>\n",
       "    </tr>\n",
       "    <tr>\n",
       "      <th id=\"T_8df41_level0_row7\" class=\"row_heading level0 row7\" >7</th>\n",
       "      <td id=\"T_8df41_row7_col0\" class=\"data row7 col0\" >1.0000</td>\n",
       "      <td id=\"T_8df41_row7_col1\" class=\"data row7 col1\" >1.0000</td>\n",
       "      <td id=\"T_8df41_row7_col2\" class=\"data row7 col2\" >1.0000</td>\n",
       "      <td id=\"T_8df41_row7_col3\" class=\"data row7 col3\" >1.0000</td>\n",
       "      <td id=\"T_8df41_row7_col4\" class=\"data row7 col4\" >1.0000</td>\n",
       "      <td id=\"T_8df41_row7_col5\" class=\"data row7 col5\" >1.0000</td>\n",
       "      <td id=\"T_8df41_row7_col6\" class=\"data row7 col6\" >1.0000</td>\n",
       "    </tr>\n",
       "    <tr>\n",
       "      <th id=\"T_8df41_level0_row8\" class=\"row_heading level0 row8\" >8</th>\n",
       "      <td id=\"T_8df41_row8_col0\" class=\"data row8 col0\" >1.0000</td>\n",
       "      <td id=\"T_8df41_row8_col1\" class=\"data row8 col1\" >1.0000</td>\n",
       "      <td id=\"T_8df41_row8_col2\" class=\"data row8 col2\" >1.0000</td>\n",
       "      <td id=\"T_8df41_row8_col3\" class=\"data row8 col3\" >1.0000</td>\n",
       "      <td id=\"T_8df41_row8_col4\" class=\"data row8 col4\" >1.0000</td>\n",
       "      <td id=\"T_8df41_row8_col5\" class=\"data row8 col5\" >1.0000</td>\n",
       "      <td id=\"T_8df41_row8_col6\" class=\"data row8 col6\" >1.0000</td>\n",
       "    </tr>\n",
       "    <tr>\n",
       "      <th id=\"T_8df41_level0_row9\" class=\"row_heading level0 row9\" >9</th>\n",
       "      <td id=\"T_8df41_row9_col0\" class=\"data row9 col0\" >1.0000</td>\n",
       "      <td id=\"T_8df41_row9_col1\" class=\"data row9 col1\" >1.0000</td>\n",
       "      <td id=\"T_8df41_row9_col2\" class=\"data row9 col2\" >1.0000</td>\n",
       "      <td id=\"T_8df41_row9_col3\" class=\"data row9 col3\" >1.0000</td>\n",
       "      <td id=\"T_8df41_row9_col4\" class=\"data row9 col4\" >1.0000</td>\n",
       "      <td id=\"T_8df41_row9_col5\" class=\"data row9 col5\" >1.0000</td>\n",
       "      <td id=\"T_8df41_row9_col6\" class=\"data row9 col6\" >1.0000</td>\n",
       "    </tr>\n",
       "    <tr>\n",
       "      <th id=\"T_8df41_level0_row10\" class=\"row_heading level0 row10\" >Mean</th>\n",
       "      <td id=\"T_8df41_row10_col0\" class=\"data row10 col0\" >0.9727</td>\n",
       "      <td id=\"T_8df41_row10_col1\" class=\"data row10 col1\" >0.9976</td>\n",
       "      <td id=\"T_8df41_row10_col2\" class=\"data row10 col2\" >0.9727</td>\n",
       "      <td id=\"T_8df41_row10_col3\" class=\"data row10 col3\" >0.9791</td>\n",
       "      <td id=\"T_8df41_row10_col4\" class=\"data row10 col4\" >0.9723</td>\n",
       "      <td id=\"T_8df41_row10_col5\" class=\"data row10 col5\" >0.9589</td>\n",
       "      <td id=\"T_8df41_row10_col6\" class=\"data row10 col6\" >0.9622</td>\n",
       "    </tr>\n",
       "    <tr>\n",
       "      <th id=\"T_8df41_level0_row11\" class=\"row_heading level0 row11\" >Std</th>\n",
       "      <td id=\"T_8df41_row11_col0\" class=\"data row11 col0\" >0.0417</td>\n",
       "      <td id=\"T_8df41_row11_col1\" class=\"data row11 col1\" >0.0073</td>\n",
       "      <td id=\"T_8df41_row11_col2\" class=\"data row11 col2\" >0.0417</td>\n",
       "      <td id=\"T_8df41_row11_col3\" class=\"data row11 col3\" >0.0320</td>\n",
       "      <td id=\"T_8df41_row11_col4\" class=\"data row11 col4\" >0.0423</td>\n",
       "      <td id=\"T_8df41_row11_col5\" class=\"data row11 col5\" >0.0628</td>\n",
       "      <td id=\"T_8df41_row11_col6\" class=\"data row11 col6\" >0.0577</td>\n",
       "    </tr>\n",
       "  </tbody>\n",
       "</table>\n"
      ],
      "text/plain": [
       "<pandas.io.formats.style.Styler at 0x7f7820f80a30>"
      ]
     },
     "metadata": {},
     "output_type": "display_data"
    },
    {
     "data": {
      "text/html": [],
      "text/plain": [
       "<IPython.core.display.HTML object>"
      ]
     },
     "metadata": {},
     "output_type": "display_data"
    },
    {
     "name": "stdout",
     "output_type": "stream",
     "text": [
      "Fitting 10 folds for each of 10 candidates, totalling 100 fits\n",
      "Original model was better than the tuned model, hence it will be returned. NOTE: The display metrics are for the tuned model (not the original one).\n"
     ]
    }
   ],
   "source": [
    "tune_ada = tune_model(ada)"
   ]
  },
  {
   "cell_type": "code",
   "execution_count": null,
   "metadata": {},
   "outputs": [
    {
     "data": {
      "text/html": [],
      "text/plain": [
       "<IPython.core.display.HTML object>"
      ]
     },
     "metadata": {},
     "output_type": "display_data"
    },
    {
     "data": {
      "image/png": "[encoded data removed]",
      "text/plain": [
       "<Figure size 800x500 with 1 Axes>"
      ]
     },
     "metadata": {},
     "output_type": "display_data"
    }
   ],
   "source": [
    "plot_model(tune_ada,plot='feature')"
   ]
  },
  {
   "cell_type": "code",
   "execution_count": null,
   "metadata": {},
   "outputs": [
    {
     "data": {
      "application/vnd.jupyter.widget-view+json": {
       "model_id": "4e2056dcaf9c45e2b0241d9afdc07bcb",
       "version_major": 2,
       "version_minor": 0
      },
      "text/plain": [
       "interactive(children=(ToggleButtons(description='Plot Type:', icons=('',), options=(('Pipeline Plot', 'pipelin…"
      ]
     },
     "metadata": {},
     "output_type": "display_data"
    }
   ],
   "source": [
    "evaluate_model(tune_ada)"
   ]
  },
  {
   "cell_type": "code",
   "execution_count": null,
   "metadata": {},
   "outputs": [],
   "source": [
    "final_ada = finalize_model(tune_ada)"
   ]
  },
  {
   "cell_type": "code",
   "execution_count": null,
   "metadata": {},
   "outputs": [
    {
     "name": "stdout",
     "output_type": "stream",
     "text": [
      "Transformation Pipeline and Model Successfully Saved\n"
     ]
    },
    {
     "data": {
      "text/plain": [
       "(Pipeline(memory=FastMemory(location=/tmp/joblib),\n",
       "          steps=[('numerical_imputer',\n",
       "                  TransformerWrapper(exclude=None,\n",
       "                                     include=['sepal length (cm)',\n",
       "                                              'sepal width (cm)',\n",
       "                                              'petal length (cm)',\n",
       "                                              'petal width (cm)'],\n",
       "                                     transformer=SimpleImputer(add_indicator=False,\n",
       "                                                               copy=True,\n",
       "                                                               fill_value=None,\n",
       "                                                               keep_empty_features=False,\n",
       "                                                               missing_values=nan,\n",
       "                                                               strategy='mean',\n",
       "                                                               verbose='deprecated'))),\n",
       "                 ('ca...\n",
       "                                                               strategy='most_frequent',\n",
       "                                                               verbose='deprecated'))),\n",
       "                 ('clean_column_names',\n",
       "                  TransformerWrapper(exclude=None, include=None,\n",
       "                                     transformer=CleanColumnNames(match='[\\\\]\\\\[\\\\,\\\\{\\\\}\\\\\"\\\\:]+'))),\n",
       "                 ('actual_estimator',\n",
       "                  AdaBoostClassifier(algorithm='SAMME.R',\n",
       "                                     base_estimator='deprecated', estimator=None,\n",
       "                                     learning_rate=1.0, n_estimators=50,\n",
       "                                     random_state=357))],\n",
       "          verbose=False),\n",
       " 'clasificador_flores.pkl')"
      ]
     },
     "execution_count": 70,
     "metadata": {},
     "output_type": "execute_result"
    }
   ],
   "source": [
    "save_model(final_ada,'clasificador_flores')"
   ]
  }
 ],
 "metadata": {
  "kernelspec": {
   "display_name": "Python 3",
   "language": "python",
   "name": "python3"
  },
  "language_info": {
   "codemirror_mode": {
    "name": "ipython",
    "version": 3
   },
   "file_extension": ".py",
   "mimetype": "text/x-python",
   "name": "python",
   "nbconvert_exporter": "python",
   "pygments_lexer": "ipython3",
   "version": "3.10.11"
  },
  "orig_nbformat": 4
 },
 "nbformat": 4,
 "nbformat_minor": 2
}
